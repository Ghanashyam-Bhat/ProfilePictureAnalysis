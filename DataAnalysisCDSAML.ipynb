{
  "nbformat": 4,
  "nbformat_minor": 0,
  "metadata": {
    "colab": {
      "name": "DataAnalysisCDSAML.ipynb",
      "provenance": [],
      "collapsed_sections": [],
      "mount_file_id": "1Hj7sYkyspy_iPJdX6R4D6Lxk2QfR-9qf",
      "authorship_tag": "ABX9TyOG0jahutlsT34yg2FbBmt2",
      "include_colab_link": true
    },
    "kernelspec": {
      "name": "python3",
      "display_name": "Python 3"
    },
    "language_info": {
      "name": "python"
    }
  },
  "cells": [
    {
      "cell_type": "markdown",
      "metadata": {
        "id": "view-in-github",
        "colab_type": "text"
      },
      "source": [
        "<a href=\"https://colab.research.google.com/github/Ghanashyam-Bhat/Summer_2/blob/main/CDSAML-PersonalityAnalysisForOnlineProfilles/DataAnalysisCDSAML.ipynb\" target=\"_parent\"><img src=\"https://colab.research.google.com/assets/colab-badge.svg\" alt=\"Open In Colab\"/></a>"
      ]
    },
    {
      "cell_type": "code",
      "execution_count": null,
      "metadata": {
        "id": "aYyplm4Lb1BG"
      },
      "outputs": [],
      "source": [
        "import pandas as pd\n",
        "import numpy as np"
      ]
    },
    {
      "cell_type": "code",
      "source": [
        "file1 = pd.read_csv(\"/content/drive/MyDrive/cdsaml/Dataset/dataset.csv\")\n",
        "file2 = pd.read_csv(\"/content/drive/MyDrive/cdsaml/Dataset/datasetj.csv\")\n",
        "df = pd.concat([file1,file2],axis= 0)\n",
        "df.reset_index(inplace=True)"
      ],
      "metadata": {
        "id": "dPpkW_COcvhp"
      },
      "execution_count": null,
      "outputs": []
    },
    {
      "cell_type": "code",
      "source": [
        "df.head()"
      ],
      "metadata": {
        "colab": {
          "base_uri": "https://localhost:8080/",
          "height": 791
        },
        "id": "RR3a4HdHdvoH",
        "outputId": "3f799b72-caaf-466d-e3b3-efaae762da3c"
      },
      "execution_count": null,
      "outputs": [
        {
          "output_type": "execute_result",
          "data": {
            "text/plain": [
              "   index  Count                                             Pixels    Quality  \\\n",
              "0      0   1000  [[[164 180 192]\\n  [164 180 192]\\n  [164 180 1...  52.307330   \n",
              "1      1   1001  [[[17 17 17]\\n  [17 17 17]\\n  [17 17 17]\\n  .....  82.125622   \n",
              "2      2   1002  [[[  5  21  33]\\n  [  5  21  33]\\n  [  5  21  ...  54.633768   \n",
              "3      3   1003  [[[111  55  30]\\n  [111  55  30]\\n  [111  55  ...  92.808653   \n",
              "4      4   1004  [[[226 228 222]\\n  [226 228 222]\\n  [226 228 2...  64.850783   \n",
              "\n",
              "   Faces  Eyes  People  Objects  Open_Eyes  \\\n",
              "0      7     0       9        1          1   \n",
              "1      1     1       3        0          1   \n",
              "2      1     0       1        0          1   \n",
              "3      1     2       1        0          1   \n",
              "4      2     1       2        0          1   \n",
              "\n",
              "                                            Emotions Dominent_Emotion  \\\n",
              "0  [{'box': [3509, 551, 297, 415], 'emotions': {'...            angry   \n",
              "1  [{'box': [2464, 787, 768, 1078], 'emotions': {...            happy   \n",
              "2  [{'box': [599, 581, 580, 787], 'emotions': {'a...            happy   \n",
              "3  [{'box': [723, 517, 1084, 1578], 'emotions': {...          neutral   \n",
              "4  [{'box': [291, 877, 596, 812], 'emotions': {'a...            happy   \n",
              "\n",
              "   Emotion_Score  Face_Area_Ratio  Mid_Diag_Ratio  Eye_Area_Ratio  \n",
              "0           0.64         0.039486        0.142754             NaN  \n",
              "1           0.42         0.035267        0.096215        0.749012  \n",
              "2           0.91         0.082357        0.112225             NaN  \n",
              "3           0.48         0.083735        0.196465        0.637818  \n",
              "4           0.98         0.071750        0.257544        0.165246  "
            ],
            "text/html": [
              "\n",
              "  <div id=\"df-990e2bd2-6127-42e0-95d6-fdf45bdaee87\">\n",
              "    <div class=\"colab-df-container\">\n",
              "      <div>\n",
              "<style scoped>\n",
              "    .dataframe tbody tr th:only-of-type {\n",
              "        vertical-align: middle;\n",
              "    }\n",
              "\n",
              "    .dataframe tbody tr th {\n",
              "        vertical-align: top;\n",
              "    }\n",
              "\n",
              "    .dataframe thead th {\n",
              "        text-align: right;\n",
              "    }\n",
              "</style>\n",
              "<table border=\"1\" class=\"dataframe\">\n",
              "  <thead>\n",
              "    <tr style=\"text-align: right;\">\n",
              "      <th></th>\n",
              "      <th>index</th>\n",
              "      <th>Count</th>\n",
              "      <th>Pixels</th>\n",
              "      <th>Quality</th>\n",
              "      <th>Faces</th>\n",
              "      <th>Eyes</th>\n",
              "      <th>People</th>\n",
              "      <th>Objects</th>\n",
              "      <th>Open_Eyes</th>\n",
              "      <th>Emotions</th>\n",
              "      <th>Dominent_Emotion</th>\n",
              "      <th>Emotion_Score</th>\n",
              "      <th>Face_Area_Ratio</th>\n",
              "      <th>Mid_Diag_Ratio</th>\n",
              "      <th>Eye_Area_Ratio</th>\n",
              "    </tr>\n",
              "  </thead>\n",
              "  <tbody>\n",
              "    <tr>\n",
              "      <th>0</th>\n",
              "      <td>0</td>\n",
              "      <td>1000</td>\n",
              "      <td>[[[164 180 192]\\n  [164 180 192]\\n  [164 180 1...</td>\n",
              "      <td>52.307330</td>\n",
              "      <td>7</td>\n",
              "      <td>0</td>\n",
              "      <td>9</td>\n",
              "      <td>1</td>\n",
              "      <td>1</td>\n",
              "      <td>[{'box': [3509, 551, 297, 415], 'emotions': {'...</td>\n",
              "      <td>angry</td>\n",
              "      <td>0.64</td>\n",
              "      <td>0.039486</td>\n",
              "      <td>0.142754</td>\n",
              "      <td>NaN</td>\n",
              "    </tr>\n",
              "    <tr>\n",
              "      <th>1</th>\n",
              "      <td>1</td>\n",
              "      <td>1001</td>\n",
              "      <td>[[[17 17 17]\\n  [17 17 17]\\n  [17 17 17]\\n  .....</td>\n",
              "      <td>82.125622</td>\n",
              "      <td>1</td>\n",
              "      <td>1</td>\n",
              "      <td>3</td>\n",
              "      <td>0</td>\n",
              "      <td>1</td>\n",
              "      <td>[{'box': [2464, 787, 768, 1078], 'emotions': {...</td>\n",
              "      <td>happy</td>\n",
              "      <td>0.42</td>\n",
              "      <td>0.035267</td>\n",
              "      <td>0.096215</td>\n",
              "      <td>0.749012</td>\n",
              "    </tr>\n",
              "    <tr>\n",
              "      <th>2</th>\n",
              "      <td>2</td>\n",
              "      <td>1002</td>\n",
              "      <td>[[[  5  21  33]\\n  [  5  21  33]\\n  [  5  21  ...</td>\n",
              "      <td>54.633768</td>\n",
              "      <td>1</td>\n",
              "      <td>0</td>\n",
              "      <td>1</td>\n",
              "      <td>0</td>\n",
              "      <td>1</td>\n",
              "      <td>[{'box': [599, 581, 580, 787], 'emotions': {'a...</td>\n",
              "      <td>happy</td>\n",
              "      <td>0.91</td>\n",
              "      <td>0.082357</td>\n",
              "      <td>0.112225</td>\n",
              "      <td>NaN</td>\n",
              "    </tr>\n",
              "    <tr>\n",
              "      <th>3</th>\n",
              "      <td>3</td>\n",
              "      <td>1003</td>\n",
              "      <td>[[[111  55  30]\\n  [111  55  30]\\n  [111  55  ...</td>\n",
              "      <td>92.808653</td>\n",
              "      <td>1</td>\n",
              "      <td>2</td>\n",
              "      <td>1</td>\n",
              "      <td>0</td>\n",
              "      <td>1</td>\n",
              "      <td>[{'box': [723, 517, 1084, 1578], 'emotions': {...</td>\n",
              "      <td>neutral</td>\n",
              "      <td>0.48</td>\n",
              "      <td>0.083735</td>\n",
              "      <td>0.196465</td>\n",
              "      <td>0.637818</td>\n",
              "    </tr>\n",
              "    <tr>\n",
              "      <th>4</th>\n",
              "      <td>4</td>\n",
              "      <td>1004</td>\n",
              "      <td>[[[226 228 222]\\n  [226 228 222]\\n  [226 228 2...</td>\n",
              "      <td>64.850783</td>\n",
              "      <td>2</td>\n",
              "      <td>1</td>\n",
              "      <td>2</td>\n",
              "      <td>0</td>\n",
              "      <td>1</td>\n",
              "      <td>[{'box': [291, 877, 596, 812], 'emotions': {'a...</td>\n",
              "      <td>happy</td>\n",
              "      <td>0.98</td>\n",
              "      <td>0.071750</td>\n",
              "      <td>0.257544</td>\n",
              "      <td>0.165246</td>\n",
              "    </tr>\n",
              "  </tbody>\n",
              "</table>\n",
              "</div>\n",
              "      <button class=\"colab-df-convert\" onclick=\"convertToInteractive('df-990e2bd2-6127-42e0-95d6-fdf45bdaee87')\"\n",
              "              title=\"Convert this dataframe to an interactive table.\"\n",
              "              style=\"display:none;\">\n",
              "        \n",
              "  <svg xmlns=\"http://www.w3.org/2000/svg\" height=\"24px\"viewBox=\"0 0 24 24\"\n",
              "       width=\"24px\">\n",
              "    <path d=\"M0 0h24v24H0V0z\" fill=\"none\"/>\n",
              "    <path d=\"M18.56 5.44l.94 2.06.94-2.06 2.06-.94-2.06-.94-.94-2.06-.94 2.06-2.06.94zm-11 1L8.5 8.5l.94-2.06 2.06-.94-2.06-.94L8.5 2.5l-.94 2.06-2.06.94zm10 10l.94 2.06.94-2.06 2.06-.94-2.06-.94-.94-2.06-.94 2.06-2.06.94z\"/><path d=\"M17.41 7.96l-1.37-1.37c-.4-.4-.92-.59-1.43-.59-.52 0-1.04.2-1.43.59L10.3 9.45l-7.72 7.72c-.78.78-.78 2.05 0 2.83L4 21.41c.39.39.9.59 1.41.59.51 0 1.02-.2 1.41-.59l7.78-7.78 2.81-2.81c.8-.78.8-2.07 0-2.86zM5.41 20L4 18.59l7.72-7.72 1.47 1.35L5.41 20z\"/>\n",
              "  </svg>\n",
              "      </button>\n",
              "      \n",
              "  <style>\n",
              "    .colab-df-container {\n",
              "      display:flex;\n",
              "      flex-wrap:wrap;\n",
              "      gap: 12px;\n",
              "    }\n",
              "\n",
              "    .colab-df-convert {\n",
              "      background-color: #E8F0FE;\n",
              "      border: none;\n",
              "      border-radius: 50%;\n",
              "      cursor: pointer;\n",
              "      display: none;\n",
              "      fill: #1967D2;\n",
              "      height: 32px;\n",
              "      padding: 0 0 0 0;\n",
              "      width: 32px;\n",
              "    }\n",
              "\n",
              "    .colab-df-convert:hover {\n",
              "      background-color: #E2EBFA;\n",
              "      box-shadow: 0px 1px 2px rgba(60, 64, 67, 0.3), 0px 1px 3px 1px rgba(60, 64, 67, 0.15);\n",
              "      fill: #174EA6;\n",
              "    }\n",
              "\n",
              "    [theme=dark] .colab-df-convert {\n",
              "      background-color: #3B4455;\n",
              "      fill: #D2E3FC;\n",
              "    }\n",
              "\n",
              "    [theme=dark] .colab-df-convert:hover {\n",
              "      background-color: #434B5C;\n",
              "      box-shadow: 0px 1px 3px 1px rgba(0, 0, 0, 0.15);\n",
              "      filter: drop-shadow(0px 1px 2px rgba(0, 0, 0, 0.3));\n",
              "      fill: #FFFFFF;\n",
              "    }\n",
              "  </style>\n",
              "\n",
              "      <script>\n",
              "        const buttonEl =\n",
              "          document.querySelector('#df-990e2bd2-6127-42e0-95d6-fdf45bdaee87 button.colab-df-convert');\n",
              "        buttonEl.style.display =\n",
              "          google.colab.kernel.accessAllowed ? 'block' : 'none';\n",
              "\n",
              "        async function convertToInteractive(key) {\n",
              "          const element = document.querySelector('#df-990e2bd2-6127-42e0-95d6-fdf45bdaee87');\n",
              "          const dataTable =\n",
              "            await google.colab.kernel.invokeFunction('convertToInteractive',\n",
              "                                                     [key], {});\n",
              "          if (!dataTable) return;\n",
              "\n",
              "          const docLinkHtml = 'Like what you see? Visit the ' +\n",
              "            '<a target=\"_blank\" href=https://colab.research.google.com/notebooks/data_table.ipynb>data table notebook</a>'\n",
              "            + ' to learn more about interactive tables.';\n",
              "          element.innerHTML = '';\n",
              "          dataTable['output_type'] = 'display_data';\n",
              "          await google.colab.output.renderOutput(dataTable, element);\n",
              "          const docLink = document.createElement('div');\n",
              "          docLink.innerHTML = docLinkHtml;\n",
              "          element.appendChild(docLink);\n",
              "        }\n",
              "      </script>\n",
              "    </div>\n",
              "  </div>\n",
              "  "
            ]
          },
          "metadata": {},
          "execution_count": 1126
        }
      ]
    },
    {
      "cell_type": "code",
      "source": [
        "df.isnull().sum()"
      ],
      "metadata": {
        "colab": {
          "base_uri": "https://localhost:8080/"
        },
        "id": "r8I4_MgnGvrh",
        "outputId": "c87c3b3b-0c29-4d0b-8d8e-8d870f5867c6"
      },
      "execution_count": null,
      "outputs": [
        {
          "output_type": "execute_result",
          "data": {
            "text/plain": [
              "index                0\n",
              "Count                0\n",
              "Pixels               0\n",
              "Quality              0\n",
              "Faces                0\n",
              "Eyes                 0\n",
              "People               0\n",
              "Objects              0\n",
              "Open_Eyes            0\n",
              "Emotions             0\n",
              "Dominent_Emotion     0\n",
              "Emotion_Score        0\n",
              "Face_Area_Ratio      0\n",
              "Mid_Diag_Ratio       0\n",
              "Eye_Area_Ratio      50\n",
              "dtype: int64"
            ]
          },
          "metadata": {},
          "execution_count": 1127
        }
      ]
    },
    {
      "cell_type": "code",
      "source": [
        "df.drop(['Eye_Area_Ratio'],axis=1,inplace=True)\n",
        "df.drop(['index'],axis=1,inplace=True)\n",
        "df.drop(['Emotions'],axis=1,inplace=True)\n",
        "df.drop(['Emotion_Score'],axis=1,inplace=True)\n",
        "df.drop(['Pixels'],axis=1,inplace=True)"
      ],
      "metadata": {
        "id": "cxH1t7wXHsNe"
      },
      "execution_count": null,
      "outputs": []
    },
    {
      "cell_type": "code",
      "source": [
        "for i in df[df[\"Quality\"]<=90][\"Quality\"].index:\n",
        "  df[\"Quality\"][i] = 1\n",
        "for i in df[df[\"Quality\"]>90][\"Quality\"].index:\n",
        "  df[\"Quality\"][i] = 0\n",
        "\n",
        "for i in df[df[\"Eyes\"]<=0][\"Eyes\"].index:\n",
        "  df[\"Eyes\"][i] = 0\n",
        "for i in df[df[\"Eyes\"]>=1][\"Eyes\"].index:\n",
        "  df[\"Eyes\"][i] = 1\n",
        "\n",
        "\n",
        "for i in df[df[\"Dominent_Emotion\"]==\"happy\"][\"Dominent_Emotion\"].index:\n",
        "  df[\"Dominent_Emotion\"][i] = 1\n",
        "for i in df[df[\"Dominent_Emotion\"]==\"neutral\"][\"Dominent_Emotion\"].index:\n",
        "  df[\"Dominent_Emotion\"][i] = 0.7\n",
        "for i in df[df[\"Dominent_Emotion\"]==\"angry\"][\"Dominent_Emotion\"].index:\n",
        "  df[\"Dominent_Emotion\"][i] = 0.3\n",
        "for i in df[df[\"Dominent_Emotion\"]==\"disgust\"][\"Dominent_Emotion\"].index:\n",
        "  df[\"Dominent_Emotion\"][i] = 0.3\n",
        "for i in df[df[\"Dominent_Emotion\"]==\"surprise\"][\"Dominent_Emotion\"].index:\n",
        "  df[\"Dominent_Emotion\"][i] = 0.6\n",
        "for i in df[df[\"Dominent_Emotion\"]==\"sad\"][\"Dominent_Emotion\"].index:\n",
        "  df[\"Dominent_Emotion\"][i] = 0.3\n",
        "for i in df[df[\"Dominent_Emotion\"]==\"fear\"][\"Dominent_Emotion\"].index:\n",
        "  df[\"Dominent_Emotion\"][i] = 0.4"
      ],
      "metadata": {
        "id": "f4GsJwaSINaP",
        "colab": {
          "base_uri": "https://localhost:8080/"
        },
        "outputId": "f22dbb59-dd95-44e1-a2a0-a339911f49ab"
      },
      "execution_count": null,
      "outputs": [
        {
          "output_type": "stream",
          "name": "stderr",
          "text": [
            "/usr/local/lib/python3.7/dist-packages/ipykernel_launcher.py:2: SettingWithCopyWarning: \n",
            "A value is trying to be set on a copy of a slice from a DataFrame\n",
            "\n",
            "See the caveats in the documentation: https://pandas.pydata.org/pandas-docs/stable/user_guide/indexing.html#returning-a-view-versus-a-copy\n",
            "  \n",
            "/usr/local/lib/python3.7/dist-packages/ipykernel_launcher.py:4: SettingWithCopyWarning: \n",
            "A value is trying to be set on a copy of a slice from a DataFrame\n",
            "\n",
            "See the caveats in the documentation: https://pandas.pydata.org/pandas-docs/stable/user_guide/indexing.html#returning-a-view-versus-a-copy\n",
            "  after removing the cwd from sys.path.\n",
            "/usr/local/lib/python3.7/dist-packages/ipykernel_launcher.py:7: SettingWithCopyWarning: \n",
            "A value is trying to be set on a copy of a slice from a DataFrame\n",
            "\n",
            "See the caveats in the documentation: https://pandas.pydata.org/pandas-docs/stable/user_guide/indexing.html#returning-a-view-versus-a-copy\n",
            "  import sys\n",
            "/usr/local/lib/python3.7/dist-packages/ipykernel_launcher.py:9: SettingWithCopyWarning: \n",
            "A value is trying to be set on a copy of a slice from a DataFrame\n",
            "\n",
            "See the caveats in the documentation: https://pandas.pydata.org/pandas-docs/stable/user_guide/indexing.html#returning-a-view-versus-a-copy\n",
            "  if __name__ == '__main__':\n",
            "/usr/local/lib/python3.7/dist-packages/ipykernel_launcher.py:13: SettingWithCopyWarning: \n",
            "A value is trying to be set on a copy of a slice from a DataFrame\n",
            "\n",
            "See the caveats in the documentation: https://pandas.pydata.org/pandas-docs/stable/user_guide/indexing.html#returning-a-view-versus-a-copy\n",
            "  del sys.path[0]\n",
            "/usr/local/lib/python3.7/dist-packages/ipykernel_launcher.py:15: SettingWithCopyWarning: \n",
            "A value is trying to be set on a copy of a slice from a DataFrame\n",
            "\n",
            "See the caveats in the documentation: https://pandas.pydata.org/pandas-docs/stable/user_guide/indexing.html#returning-a-view-versus-a-copy\n",
            "  from ipykernel import kernelapp as app\n",
            "/usr/local/lib/python3.7/dist-packages/ipykernel_launcher.py:17: SettingWithCopyWarning: \n",
            "A value is trying to be set on a copy of a slice from a DataFrame\n",
            "\n",
            "See the caveats in the documentation: https://pandas.pydata.org/pandas-docs/stable/user_guide/indexing.html#returning-a-view-versus-a-copy\n",
            "/usr/local/lib/python3.7/dist-packages/ipykernel_launcher.py:19: SettingWithCopyWarning: \n",
            "A value is trying to be set on a copy of a slice from a DataFrame\n",
            "\n",
            "See the caveats in the documentation: https://pandas.pydata.org/pandas-docs/stable/user_guide/indexing.html#returning-a-view-versus-a-copy\n",
            "/usr/local/lib/python3.7/dist-packages/ipykernel_launcher.py:21: SettingWithCopyWarning: \n",
            "A value is trying to be set on a copy of a slice from a DataFrame\n",
            "\n",
            "See the caveats in the documentation: https://pandas.pydata.org/pandas-docs/stable/user_guide/indexing.html#returning-a-view-versus-a-copy\n",
            "/usr/local/lib/python3.7/dist-packages/ipykernel_launcher.py:23: SettingWithCopyWarning: \n",
            "A value is trying to be set on a copy of a slice from a DataFrame\n",
            "\n",
            "See the caveats in the documentation: https://pandas.pydata.org/pandas-docs/stable/user_guide/indexing.html#returning-a-view-versus-a-copy\n",
            "/usr/local/lib/python3.7/dist-packages/ipykernel_launcher.py:25: SettingWithCopyWarning: \n",
            "A value is trying to be set on a copy of a slice from a DataFrame\n",
            "\n",
            "See the caveats in the documentation: https://pandas.pydata.org/pandas-docs/stable/user_guide/indexing.html#returning-a-view-versus-a-copy\n"
          ]
        }
      ]
    },
    {
      "cell_type": "code",
      "source": [
        "df.head()\n"
      ],
      "metadata": {
        "colab": {
          "base_uri": "https://localhost:8080/",
          "height": 206
        },
        "id": "ulozZS0jINgu",
        "outputId": "49402f06-ae3b-44ab-8105-08e6ea0a42fa"
      },
      "execution_count": null,
      "outputs": [
        {
          "output_type": "execute_result",
          "data": {
            "text/plain": [
              "   Count  Quality  Faces  Eyes  People  Objects  Open_Eyes Dominent_Emotion  \\\n",
              "0   1000      1.0      7     0       9        1          1              0.3   \n",
              "1   1001      1.0      1     1       3        0          1                1   \n",
              "2   1002      1.0      1     0       1        0          1                1   \n",
              "3   1003      0.0      1     1       1        0          1              0.7   \n",
              "4   1004      1.0      2     1       2        0          1                1   \n",
              "\n",
              "   Face_Area_Ratio  Mid_Diag_Ratio  \n",
              "0         0.039486        0.142754  \n",
              "1         0.035267        0.096215  \n",
              "2         0.082357        0.112225  \n",
              "3         0.083735        0.196465  \n",
              "4         0.071750        0.257544  "
            ],
            "text/html": [
              "\n",
              "  <div id=\"df-70bb1287-7eb3-4686-bb71-cb21ffcf04c7\">\n",
              "    <div class=\"colab-df-container\">\n",
              "      <div>\n",
              "<style scoped>\n",
              "    .dataframe tbody tr th:only-of-type {\n",
              "        vertical-align: middle;\n",
              "    }\n",
              "\n",
              "    .dataframe tbody tr th {\n",
              "        vertical-align: top;\n",
              "    }\n",
              "\n",
              "    .dataframe thead th {\n",
              "        text-align: right;\n",
              "    }\n",
              "</style>\n",
              "<table border=\"1\" class=\"dataframe\">\n",
              "  <thead>\n",
              "    <tr style=\"text-align: right;\">\n",
              "      <th></th>\n",
              "      <th>Count</th>\n",
              "      <th>Quality</th>\n",
              "      <th>Faces</th>\n",
              "      <th>Eyes</th>\n",
              "      <th>People</th>\n",
              "      <th>Objects</th>\n",
              "      <th>Open_Eyes</th>\n",
              "      <th>Dominent_Emotion</th>\n",
              "      <th>Face_Area_Ratio</th>\n",
              "      <th>Mid_Diag_Ratio</th>\n",
              "    </tr>\n",
              "  </thead>\n",
              "  <tbody>\n",
              "    <tr>\n",
              "      <th>0</th>\n",
              "      <td>1000</td>\n",
              "      <td>1.0</td>\n",
              "      <td>7</td>\n",
              "      <td>0</td>\n",
              "      <td>9</td>\n",
              "      <td>1</td>\n",
              "      <td>1</td>\n",
              "      <td>0.3</td>\n",
              "      <td>0.039486</td>\n",
              "      <td>0.142754</td>\n",
              "    </tr>\n",
              "    <tr>\n",
              "      <th>1</th>\n",
              "      <td>1001</td>\n",
              "      <td>1.0</td>\n",
              "      <td>1</td>\n",
              "      <td>1</td>\n",
              "      <td>3</td>\n",
              "      <td>0</td>\n",
              "      <td>1</td>\n",
              "      <td>1</td>\n",
              "      <td>0.035267</td>\n",
              "      <td>0.096215</td>\n",
              "    </tr>\n",
              "    <tr>\n",
              "      <th>2</th>\n",
              "      <td>1002</td>\n",
              "      <td>1.0</td>\n",
              "      <td>1</td>\n",
              "      <td>0</td>\n",
              "      <td>1</td>\n",
              "      <td>0</td>\n",
              "      <td>1</td>\n",
              "      <td>1</td>\n",
              "      <td>0.082357</td>\n",
              "      <td>0.112225</td>\n",
              "    </tr>\n",
              "    <tr>\n",
              "      <th>3</th>\n",
              "      <td>1003</td>\n",
              "      <td>0.0</td>\n",
              "      <td>1</td>\n",
              "      <td>1</td>\n",
              "      <td>1</td>\n",
              "      <td>0</td>\n",
              "      <td>1</td>\n",
              "      <td>0.7</td>\n",
              "      <td>0.083735</td>\n",
              "      <td>0.196465</td>\n",
              "    </tr>\n",
              "    <tr>\n",
              "      <th>4</th>\n",
              "      <td>1004</td>\n",
              "      <td>1.0</td>\n",
              "      <td>2</td>\n",
              "      <td>1</td>\n",
              "      <td>2</td>\n",
              "      <td>0</td>\n",
              "      <td>1</td>\n",
              "      <td>1</td>\n",
              "      <td>0.071750</td>\n",
              "      <td>0.257544</td>\n",
              "    </tr>\n",
              "  </tbody>\n",
              "</table>\n",
              "</div>\n",
              "      <button class=\"colab-df-convert\" onclick=\"convertToInteractive('df-70bb1287-7eb3-4686-bb71-cb21ffcf04c7')\"\n",
              "              title=\"Convert this dataframe to an interactive table.\"\n",
              "              style=\"display:none;\">\n",
              "        \n",
              "  <svg xmlns=\"http://www.w3.org/2000/svg\" height=\"24px\"viewBox=\"0 0 24 24\"\n",
              "       width=\"24px\">\n",
              "    <path d=\"M0 0h24v24H0V0z\" fill=\"none\"/>\n",
              "    <path d=\"M18.56 5.44l.94 2.06.94-2.06 2.06-.94-2.06-.94-.94-2.06-.94 2.06-2.06.94zm-11 1L8.5 8.5l.94-2.06 2.06-.94-2.06-.94L8.5 2.5l-.94 2.06-2.06.94zm10 10l.94 2.06.94-2.06 2.06-.94-2.06-.94-.94-2.06-.94 2.06-2.06.94z\"/><path d=\"M17.41 7.96l-1.37-1.37c-.4-.4-.92-.59-1.43-.59-.52 0-1.04.2-1.43.59L10.3 9.45l-7.72 7.72c-.78.78-.78 2.05 0 2.83L4 21.41c.39.39.9.59 1.41.59.51 0 1.02-.2 1.41-.59l7.78-7.78 2.81-2.81c.8-.78.8-2.07 0-2.86zM5.41 20L4 18.59l7.72-7.72 1.47 1.35L5.41 20z\"/>\n",
              "  </svg>\n",
              "      </button>\n",
              "      \n",
              "  <style>\n",
              "    .colab-df-container {\n",
              "      display:flex;\n",
              "      flex-wrap:wrap;\n",
              "      gap: 12px;\n",
              "    }\n",
              "\n",
              "    .colab-df-convert {\n",
              "      background-color: #E8F0FE;\n",
              "      border: none;\n",
              "      border-radius: 50%;\n",
              "      cursor: pointer;\n",
              "      display: none;\n",
              "      fill: #1967D2;\n",
              "      height: 32px;\n",
              "      padding: 0 0 0 0;\n",
              "      width: 32px;\n",
              "    }\n",
              "\n",
              "    .colab-df-convert:hover {\n",
              "      background-color: #E2EBFA;\n",
              "      box-shadow: 0px 1px 2px rgba(60, 64, 67, 0.3), 0px 1px 3px 1px rgba(60, 64, 67, 0.15);\n",
              "      fill: #174EA6;\n",
              "    }\n",
              "\n",
              "    [theme=dark] .colab-df-convert {\n",
              "      background-color: #3B4455;\n",
              "      fill: #D2E3FC;\n",
              "    }\n",
              "\n",
              "    [theme=dark] .colab-df-convert:hover {\n",
              "      background-color: #434B5C;\n",
              "      box-shadow: 0px 1px 3px 1px rgba(0, 0, 0, 0.15);\n",
              "      filter: drop-shadow(0px 1px 2px rgba(0, 0, 0, 0.3));\n",
              "      fill: #FFFFFF;\n",
              "    }\n",
              "  </style>\n",
              "\n",
              "      <script>\n",
              "        const buttonEl =\n",
              "          document.querySelector('#df-70bb1287-7eb3-4686-bb71-cb21ffcf04c7 button.colab-df-convert');\n",
              "        buttonEl.style.display =\n",
              "          google.colab.kernel.accessAllowed ? 'block' : 'none';\n",
              "\n",
              "        async function convertToInteractive(key) {\n",
              "          const element = document.querySelector('#df-70bb1287-7eb3-4686-bb71-cb21ffcf04c7');\n",
              "          const dataTable =\n",
              "            await google.colab.kernel.invokeFunction('convertToInteractive',\n",
              "                                                     [key], {});\n",
              "          if (!dataTable) return;\n",
              "\n",
              "          const docLinkHtml = 'Like what you see? Visit the ' +\n",
              "            '<a target=\"_blank\" href=https://colab.research.google.com/notebooks/data_table.ipynb>data table notebook</a>'\n",
              "            + ' to learn more about interactive tables.';\n",
              "          element.innerHTML = '';\n",
              "          dataTable['output_type'] = 'display_data';\n",
              "          await google.colab.output.renderOutput(dataTable, element);\n",
              "          const docLink = document.createElement('div');\n",
              "          docLink.innerHTML = docLinkHtml;\n",
              "          element.appendChild(docLink);\n",
              "        }\n",
              "      </script>\n",
              "    </div>\n",
              "  </div>\n",
              "  "
            ]
          },
          "metadata": {},
          "execution_count": 1130
        }
      ]
    },
    {
      "cell_type": "code",
      "source": [
        "for i in df[df[\"Faces\"]==0][\"Faces\"].index:\n",
        "  df[\"Faces\"][i] = 1\n",
        "for i in df[df[\"People\"]==0][\"People\"].index:\n",
        "  df[\"People\"][i] = 1\n",
        "for i in df[df[\"Objects\"]==0][\"Objects\"].index:\n",
        "  df[\"Objects\"][i] = 1\n",
        "for i in df[df[\"Quality\"]==0][\"Quality\"].index:\n",
        "  df[\"Quality\"][i] = 1"
      ],
      "metadata": {
        "colab": {
          "base_uri": "https://localhost:8080/"
        },
        "id": "sWbpRFow_19P",
        "outputId": "89c16110-de7e-474d-909f-5638f7afc17d"
      },
      "execution_count": null,
      "outputs": [
        {
          "output_type": "stream",
          "name": "stderr",
          "text": [
            "/usr/local/lib/python3.7/dist-packages/ipykernel_launcher.py:6: SettingWithCopyWarning: \n",
            "A value is trying to be set on a copy of a slice from a DataFrame\n",
            "\n",
            "See the caveats in the documentation: https://pandas.pydata.org/pandas-docs/stable/user_guide/indexing.html#returning-a-view-versus-a-copy\n",
            "  \n",
            "/usr/local/lib/python3.7/dist-packages/ipykernel_launcher.py:8: SettingWithCopyWarning: \n",
            "A value is trying to be set on a copy of a slice from a DataFrame\n",
            "\n",
            "See the caveats in the documentation: https://pandas.pydata.org/pandas-docs/stable/user_guide/indexing.html#returning-a-view-versus-a-copy\n",
            "  \n"
          ]
        }
      ]
    },
    {
      "cell_type": "code",
      "source": [
        "Quality = 1.5*(1/df[\"Quality\"])\n",
        "Faces = 2*(1/df[\"Faces\"])\n",
        "Eyes = 0.2*df[\"Eyes\"]\n",
        "People = 0.4*(1/df[\"People\"])\n",
        "Objects = 0.3*(1/df[\"Objects\"])\n",
        "Open_Eyes = 0.8*df[\"Open_Eyes\"]\n",
        "Face_area = 2*df[\"Face_Area_Ratio\"]/0.1\n",
        "Face_diag = 0.3*df[\"Mid_Diag_Ratio\"]/0.25\n",
        "Dominent_Emotion = 2.5*df[\"Dominent_Emotion\"]"
      ],
      "metadata": {
        "id": "NFl7I6eZ_3Fn"
      },
      "execution_count": null,
      "outputs": []
    },
    {
      "cell_type": "code",
      "source": [
        "Total = Quality+Faces+Eyes+People+Objects+Open_Eyes+Face_area+Face_diag+Dominent_Emotion"
      ],
      "metadata": {
        "id": "uv_hjoTCPIQa"
      },
      "execution_count": null,
      "outputs": []
    },
    {
      "cell_type": "code",
      "source": [
        "print(max(Total))"
      ],
      "metadata": {
        "colab": {
          "base_uri": "https://localhost:8080/"
        },
        "id": "xWx9EWeFd-Qb",
        "outputId": "c0f493c2-6771-466f-e04a-0c5344912763"
      },
      "execution_count": null,
      "outputs": [
        {
          "output_type": "stream",
          "name": "stdout",
          "text": [
            "13.586080443793264\n"
          ]
        }
      ]
    },
    {
      "cell_type": "code",
      "source": [
        "df[\"Score\"] = (Total/15)*100"
      ],
      "metadata": {
        "id": "OQ6l7hGFP94v"
      },
      "execution_count": null,
      "outputs": []
    },
    {
      "cell_type": "code",
      "source": [
        "df[df[\"Score\"]==min(df[\"Score\"])]"
      ],
      "metadata": {
        "colab": {
          "base_uri": "https://localhost:8080/",
          "height": 112
        },
        "id": "__mRpX3ZP_GS",
        "outputId": "aa410507-24b6-4130-ced6-d7880c75c925"
      },
      "execution_count": null,
      "outputs": [
        {
          "output_type": "execute_result",
          "data": {
            "text/plain": [
              "     Count  Quality  Faces  Eyes  People  Objects  Open_Eyes Dominent_Emotion  \\\n",
              "295    158      1.0      2     1       3        1          0              0.3   \n",
              "381    268      1.0      2     1       3        1          0              0.3   \n",
              "\n",
              "     Face_Area_Ratio  Mid_Diag_Ratio      Score  \n",
              "295         0.026242         0.07817  30.013188  \n",
              "381         0.026242         0.07817  30.013188  "
            ],
            "text/html": [
              "\n",
              "  <div id=\"df-54dc236f-cb84-4a99-b501-50601ca08187\">\n",
              "    <div class=\"colab-df-container\">\n",
              "      <div>\n",
              "<style scoped>\n",
              "    .dataframe tbody tr th:only-of-type {\n",
              "        vertical-align: middle;\n",
              "    }\n",
              "\n",
              "    .dataframe tbody tr th {\n",
              "        vertical-align: top;\n",
              "    }\n",
              "\n",
              "    .dataframe thead th {\n",
              "        text-align: right;\n",
              "    }\n",
              "</style>\n",
              "<table border=\"1\" class=\"dataframe\">\n",
              "  <thead>\n",
              "    <tr style=\"text-align: right;\">\n",
              "      <th></th>\n",
              "      <th>Count</th>\n",
              "      <th>Quality</th>\n",
              "      <th>Faces</th>\n",
              "      <th>Eyes</th>\n",
              "      <th>People</th>\n",
              "      <th>Objects</th>\n",
              "      <th>Open_Eyes</th>\n",
              "      <th>Dominent_Emotion</th>\n",
              "      <th>Face_Area_Ratio</th>\n",
              "      <th>Mid_Diag_Ratio</th>\n",
              "      <th>Score</th>\n",
              "    </tr>\n",
              "  </thead>\n",
              "  <tbody>\n",
              "    <tr>\n",
              "      <th>295</th>\n",
              "      <td>158</td>\n",
              "      <td>1.0</td>\n",
              "      <td>2</td>\n",
              "      <td>1</td>\n",
              "      <td>3</td>\n",
              "      <td>1</td>\n",
              "      <td>0</td>\n",
              "      <td>0.3</td>\n",
              "      <td>0.026242</td>\n",
              "      <td>0.07817</td>\n",
              "      <td>30.013188</td>\n",
              "    </tr>\n",
              "    <tr>\n",
              "      <th>381</th>\n",
              "      <td>268</td>\n",
              "      <td>1.0</td>\n",
              "      <td>2</td>\n",
              "      <td>1</td>\n",
              "      <td>3</td>\n",
              "      <td>1</td>\n",
              "      <td>0</td>\n",
              "      <td>0.3</td>\n",
              "      <td>0.026242</td>\n",
              "      <td>0.07817</td>\n",
              "      <td>30.013188</td>\n",
              "    </tr>\n",
              "  </tbody>\n",
              "</table>\n",
              "</div>\n",
              "      <button class=\"colab-df-convert\" onclick=\"convertToInteractive('df-54dc236f-cb84-4a99-b501-50601ca08187')\"\n",
              "              title=\"Convert this dataframe to an interactive table.\"\n",
              "              style=\"display:none;\">\n",
              "        \n",
              "  <svg xmlns=\"http://www.w3.org/2000/svg\" height=\"24px\"viewBox=\"0 0 24 24\"\n",
              "       width=\"24px\">\n",
              "    <path d=\"M0 0h24v24H0V0z\" fill=\"none\"/>\n",
              "    <path d=\"M18.56 5.44l.94 2.06.94-2.06 2.06-.94-2.06-.94-.94-2.06-.94 2.06-2.06.94zm-11 1L8.5 8.5l.94-2.06 2.06-.94-2.06-.94L8.5 2.5l-.94 2.06-2.06.94zm10 10l.94 2.06.94-2.06 2.06-.94-2.06-.94-.94-2.06-.94 2.06-2.06.94z\"/><path d=\"M17.41 7.96l-1.37-1.37c-.4-.4-.92-.59-1.43-.59-.52 0-1.04.2-1.43.59L10.3 9.45l-7.72 7.72c-.78.78-.78 2.05 0 2.83L4 21.41c.39.39.9.59 1.41.59.51 0 1.02-.2 1.41-.59l7.78-7.78 2.81-2.81c.8-.78.8-2.07 0-2.86zM5.41 20L4 18.59l7.72-7.72 1.47 1.35L5.41 20z\"/>\n",
              "  </svg>\n",
              "      </button>\n",
              "      \n",
              "  <style>\n",
              "    .colab-df-container {\n",
              "      display:flex;\n",
              "      flex-wrap:wrap;\n",
              "      gap: 12px;\n",
              "    }\n",
              "\n",
              "    .colab-df-convert {\n",
              "      background-color: #E8F0FE;\n",
              "      border: none;\n",
              "      border-radius: 50%;\n",
              "      cursor: pointer;\n",
              "      display: none;\n",
              "      fill: #1967D2;\n",
              "      height: 32px;\n",
              "      padding: 0 0 0 0;\n",
              "      width: 32px;\n",
              "    }\n",
              "\n",
              "    .colab-df-convert:hover {\n",
              "      background-color: #E2EBFA;\n",
              "      box-shadow: 0px 1px 2px rgba(60, 64, 67, 0.3), 0px 1px 3px 1px rgba(60, 64, 67, 0.15);\n",
              "      fill: #174EA6;\n",
              "    }\n",
              "\n",
              "    [theme=dark] .colab-df-convert {\n",
              "      background-color: #3B4455;\n",
              "      fill: #D2E3FC;\n",
              "    }\n",
              "\n",
              "    [theme=dark] .colab-df-convert:hover {\n",
              "      background-color: #434B5C;\n",
              "      box-shadow: 0px 1px 3px 1px rgba(0, 0, 0, 0.15);\n",
              "      filter: drop-shadow(0px 1px 2px rgba(0, 0, 0, 0.3));\n",
              "      fill: #FFFFFF;\n",
              "    }\n",
              "  </style>\n",
              "\n",
              "      <script>\n",
              "        const buttonEl =\n",
              "          document.querySelector('#df-54dc236f-cb84-4a99-b501-50601ca08187 button.colab-df-convert');\n",
              "        buttonEl.style.display =\n",
              "          google.colab.kernel.accessAllowed ? 'block' : 'none';\n",
              "\n",
              "        async function convertToInteractive(key) {\n",
              "          const element = document.querySelector('#df-54dc236f-cb84-4a99-b501-50601ca08187');\n",
              "          const dataTable =\n",
              "            await google.colab.kernel.invokeFunction('convertToInteractive',\n",
              "                                                     [key], {});\n",
              "          if (!dataTable) return;\n",
              "\n",
              "          const docLinkHtml = 'Like what you see? Visit the ' +\n",
              "            '<a target=\"_blank\" href=https://colab.research.google.com/notebooks/data_table.ipynb>data table notebook</a>'\n",
              "            + ' to learn more about interactive tables.';\n",
              "          element.innerHTML = '';\n",
              "          dataTable['output_type'] = 'display_data';\n",
              "          await google.colab.output.renderOutput(dataTable, element);\n",
              "          const docLink = document.createElement('div');\n",
              "          docLink.innerHTML = docLinkHtml;\n",
              "          element.appendChild(docLink);\n",
              "        }\n",
              "      </script>\n",
              "    </div>\n",
              "  </div>\n",
              "  "
            ]
          },
          "metadata": {},
          "execution_count": 1136
        }
      ]
    },
    {
      "cell_type": "code",
      "source": [
        "df[df[\"Score\"]==max(df[\"Score\"])]"
      ],
      "metadata": {
        "id": "Zsp0oHegSQWN",
        "colab": {
          "base_uri": "https://localhost:8080/",
          "height": 81
        },
        "outputId": "89d6e9b2-fe5d-4f66-900d-73b33f0c8369"
      },
      "execution_count": null,
      "outputs": [
        {
          "output_type": "execute_result",
          "data": {
            "text/plain": [
              "    Count  Quality  Faces  Eyes  People  Objects  Open_Eyes Dominent_Emotion  \\\n",
              "71   1085      1.0      1     1       1        1          1                1   \n",
              "\n",
              "    Face_Area_Ratio  Mid_Diag_Ratio     Score  \n",
              "71         0.292163         0.03569  90.57387  "
            ],
            "text/html": [
              "\n",
              "  <div id=\"df-3c6d1698-35be-4296-9486-ae15c78c641e\">\n",
              "    <div class=\"colab-df-container\">\n",
              "      <div>\n",
              "<style scoped>\n",
              "    .dataframe tbody tr th:only-of-type {\n",
              "        vertical-align: middle;\n",
              "    }\n",
              "\n",
              "    .dataframe tbody tr th {\n",
              "        vertical-align: top;\n",
              "    }\n",
              "\n",
              "    .dataframe thead th {\n",
              "        text-align: right;\n",
              "    }\n",
              "</style>\n",
              "<table border=\"1\" class=\"dataframe\">\n",
              "  <thead>\n",
              "    <tr style=\"text-align: right;\">\n",
              "      <th></th>\n",
              "      <th>Count</th>\n",
              "      <th>Quality</th>\n",
              "      <th>Faces</th>\n",
              "      <th>Eyes</th>\n",
              "      <th>People</th>\n",
              "      <th>Objects</th>\n",
              "      <th>Open_Eyes</th>\n",
              "      <th>Dominent_Emotion</th>\n",
              "      <th>Face_Area_Ratio</th>\n",
              "      <th>Mid_Diag_Ratio</th>\n",
              "      <th>Score</th>\n",
              "    </tr>\n",
              "  </thead>\n",
              "  <tbody>\n",
              "    <tr>\n",
              "      <th>71</th>\n",
              "      <td>1085</td>\n",
              "      <td>1.0</td>\n",
              "      <td>1</td>\n",
              "      <td>1</td>\n",
              "      <td>1</td>\n",
              "      <td>1</td>\n",
              "      <td>1</td>\n",
              "      <td>1</td>\n",
              "      <td>0.292163</td>\n",
              "      <td>0.03569</td>\n",
              "      <td>90.57387</td>\n",
              "    </tr>\n",
              "  </tbody>\n",
              "</table>\n",
              "</div>\n",
              "      <button class=\"colab-df-convert\" onclick=\"convertToInteractive('df-3c6d1698-35be-4296-9486-ae15c78c641e')\"\n",
              "              title=\"Convert this dataframe to an interactive table.\"\n",
              "              style=\"display:none;\">\n",
              "        \n",
              "  <svg xmlns=\"http://www.w3.org/2000/svg\" height=\"24px\"viewBox=\"0 0 24 24\"\n",
              "       width=\"24px\">\n",
              "    <path d=\"M0 0h24v24H0V0z\" fill=\"none\"/>\n",
              "    <path d=\"M18.56 5.44l.94 2.06.94-2.06 2.06-.94-2.06-.94-.94-2.06-.94 2.06-2.06.94zm-11 1L8.5 8.5l.94-2.06 2.06-.94-2.06-.94L8.5 2.5l-.94 2.06-2.06.94zm10 10l.94 2.06.94-2.06 2.06-.94-2.06-.94-.94-2.06-.94 2.06-2.06.94z\"/><path d=\"M17.41 7.96l-1.37-1.37c-.4-.4-.92-.59-1.43-.59-.52 0-1.04.2-1.43.59L10.3 9.45l-7.72 7.72c-.78.78-.78 2.05 0 2.83L4 21.41c.39.39.9.59 1.41.59.51 0 1.02-.2 1.41-.59l7.78-7.78 2.81-2.81c.8-.78.8-2.07 0-2.86zM5.41 20L4 18.59l7.72-7.72 1.47 1.35L5.41 20z\"/>\n",
              "  </svg>\n",
              "      </button>\n",
              "      \n",
              "  <style>\n",
              "    .colab-df-container {\n",
              "      display:flex;\n",
              "      flex-wrap:wrap;\n",
              "      gap: 12px;\n",
              "    }\n",
              "\n",
              "    .colab-df-convert {\n",
              "      background-color: #E8F0FE;\n",
              "      border: none;\n",
              "      border-radius: 50%;\n",
              "      cursor: pointer;\n",
              "      display: none;\n",
              "      fill: #1967D2;\n",
              "      height: 32px;\n",
              "      padding: 0 0 0 0;\n",
              "      width: 32px;\n",
              "    }\n",
              "\n",
              "    .colab-df-convert:hover {\n",
              "      background-color: #E2EBFA;\n",
              "      box-shadow: 0px 1px 2px rgba(60, 64, 67, 0.3), 0px 1px 3px 1px rgba(60, 64, 67, 0.15);\n",
              "      fill: #174EA6;\n",
              "    }\n",
              "\n",
              "    [theme=dark] .colab-df-convert {\n",
              "      background-color: #3B4455;\n",
              "      fill: #D2E3FC;\n",
              "    }\n",
              "\n",
              "    [theme=dark] .colab-df-convert:hover {\n",
              "      background-color: #434B5C;\n",
              "      box-shadow: 0px 1px 3px 1px rgba(0, 0, 0, 0.15);\n",
              "      filter: drop-shadow(0px 1px 2px rgba(0, 0, 0, 0.3));\n",
              "      fill: #FFFFFF;\n",
              "    }\n",
              "  </style>\n",
              "\n",
              "      <script>\n",
              "        const buttonEl =\n",
              "          document.querySelector('#df-3c6d1698-35be-4296-9486-ae15c78c641e button.colab-df-convert');\n",
              "        buttonEl.style.display =\n",
              "          google.colab.kernel.accessAllowed ? 'block' : 'none';\n",
              "\n",
              "        async function convertToInteractive(key) {\n",
              "          const element = document.querySelector('#df-3c6d1698-35be-4296-9486-ae15c78c641e');\n",
              "          const dataTable =\n",
              "            await google.colab.kernel.invokeFunction('convertToInteractive',\n",
              "                                                     [key], {});\n",
              "          if (!dataTable) return;\n",
              "\n",
              "          const docLinkHtml = 'Like what you see? Visit the ' +\n",
              "            '<a target=\"_blank\" href=https://colab.research.google.com/notebooks/data_table.ipynb>data table notebook</a>'\n",
              "            + ' to learn more about interactive tables.';\n",
              "          element.innerHTML = '';\n",
              "          dataTable['output_type'] = 'display_data';\n",
              "          await google.colab.output.renderOutput(dataTable, element);\n",
              "          const docLink = document.createElement('div');\n",
              "          docLink.innerHTML = docLinkHtml;\n",
              "          element.appendChild(docLink);\n",
              "        }\n",
              "      </script>\n",
              "    </div>\n",
              "  </div>\n",
              "  "
            ]
          },
          "metadata": {},
          "execution_count": 1137
        }
      ]
    },
    {
      "cell_type": "code",
      "source": [
        "# df.sort_values(by=['Score']).head()"
      ],
      "metadata": {
        "id": "m5vy-5Fthzdi"
      },
      "execution_count": null,
      "outputs": []
    },
    {
      "cell_type": "markdown",
      "source": [
        "Regression Model (SVR)"
      ],
      "metadata": {
        "id": "Hav53FeyDWUL"
      }
    },
    {
      "cell_type": "code",
      "source": [
        "df[\"Score\"].isnull().sum()"
      ],
      "metadata": {
        "colab": {
          "base_uri": "https://localhost:8080/"
        },
        "id": "5n8X6O_Pj-VX",
        "outputId": "e893b67a-7ab2-42a2-8c21-32f53548dc93"
      },
      "execution_count": null,
      "outputs": [
        {
          "output_type": "execute_result",
          "data": {
            "text/plain": [
              "0"
            ]
          },
          "metadata": {},
          "execution_count": 1139
        }
      ]
    },
    {
      "cell_type": "code",
      "source": [
        "import numpy as np\n",
        "import pandas as pd\n",
        "import matplotlib.pyplot as plt\n",
        "\n",
        "# import and split the data and classes\n",
        "dataset = df\n",
        "X_total = dataset.iloc[:, 1:10].values\n",
        "Y_total = dataset.iloc[:,10 ].values\n",
        "\n",
        "from sklearn.model_selection import train_test_split\n",
        "X, X_test, Y, Y_test = train_test_split(X_total, Y_total, test_size = 0.20, random_state = 0)\n"
      ],
      "metadata": {
        "id": "4ud3gz5UoqjC"
      },
      "execution_count": null,
      "outputs": []
    },
    {
      "cell_type": "code",
      "source": [
        "len(X) #Reshape Row length"
      ],
      "metadata": {
        "colab": {
          "base_uri": "https://localhost:8080/"
        },
        "id": "Jc6faUT37_EX",
        "outputId": "da664fb9-c0a6-4d19-d8aa-b0a23e091076"
      },
      "execution_count": null,
      "outputs": [
        {
          "output_type": "execute_result",
          "data": {
            "text/plain": [
              "380"
            ]
          },
          "metadata": {},
          "execution_count": 1141
        }
      ]
    },
    {
      "cell_type": "code",
      "source": [
        "\n",
        "# features scaling\n",
        "from sklearn.preprocessing import StandardScaler\n",
        "sc_X = StandardScaler()\n",
        "sc_Y = StandardScaler()\n",
        "Y = Y.reshape(-1,1)\n",
        "X = sc_X.fit_transform(X)\n",
        "Y = sc_Y.fit_transform(Y)\n",
        "\n",
        "# Fitting Regression modelto the dataset\n",
        "from sklearn.svm import SVR\n",
        "regressor = SVR(kernel='linear') # add this parametre kernel='rbf'\n",
        "regressor.fit(X,Y)\n",
        "\n",
        "# predicts a new result with polyn reg\n",
        "# y_pred = sc_Y.inverse_transform(regressor.predict(sc_X.transform())\n",
        "\n",
        "# Visualisation the regression result\n",
        "# plt.scatter(X, Y,color='red')\n",
        "# plt.plot(Y, regressor.predict(X), color='red')\n",
        "\n",
        "# X_test = sc_X.transform(X_test)\n",
        "Y_pred = regressor.predict(X_test)\n",
        "Y_pred = sc_Y.inverse_transform(Y_pred.reshape(-1,1))\n",
        "plt.scatter(Y_test, Y_pred, color='green')\n",
        "plt.title('SVR')\n",
        "plt.xlabel('Picture')\n",
        "plt.ylabel('Score')\n",
        "plt.show()"
      ],
      "metadata": {
        "colab": {
          "base_uri": "https://localhost:8080/",
          "height": 350
        },
        "id": "ViWMswSCvQFg",
        "outputId": "195263f1-7c4c-4396-b990-f6be368fa5c8"
      },
      "execution_count": null,
      "outputs": [
        {
          "output_type": "stream",
          "name": "stderr",
          "text": [
            "/usr/local/lib/python3.7/dist-packages/sklearn/utils/validation.py:993: DataConversionWarning: A column-vector y was passed when a 1d array was expected. Please change the shape of y to (n_samples, ), for example using ravel().\n",
            "  y = column_or_1d(y, warn=True)\n"
          ]
        },
        {
          "output_type": "display_data",
          "data": {
            "text/plain": [
              "<Figure size 432x288 with 1 Axes>"
            ],
            "image/png": "[encoded data removed]"
          },
          "metadata": {
            "needs_background": "light"
          }
        }
      ]
    },
    {
      "cell_type": "code",
      "source": [
        "print(Y)\n",
        "print(X)"
      ],
      "metadata": {
        "colab": {
          "base_uri": "https://localhost:8080/"
        },
        "id": "N6USOsghF4pW",
        "outputId": "5ea0f1f1-46c6-4cc3-e4ce-1bc7bcfc937c"
      },
      "execution_count": null,
      "outputs": [
        {
          "output_type": "stream",
          "name": "stdout",
          "text": [
            "[[-0.04435556]\n",
            " [ 0.76588086]\n",
            " [-1.11386537]\n",
            " [ 0.17341646]\n",
            " [-0.3788104 ]\n",
            " [-0.4374256 ]\n",
            " [-1.71916412]\n",
            " [-0.21602137]\n",
            " [-1.07312495]\n",
            " [-0.28932427]\n",
            " [ 1.08415706]\n",
            " [ 1.20181925]\n",
            " [ 0.06223112]\n",
            " [-0.18518567]\n",
            " [ 1.45016819]\n",
            " [ 1.21180539]\n",
            " [-1.10714829]\n",
            " [-1.24924297]\n",
            " [-0.71379736]\n",
            " [-0.07096987]\n",
            " [ 0.43600203]\n",
            " [ 0.6119594 ]\n",
            " [ 0.01415245]\n",
            " [-0.35393826]\n",
            " [-1.82615332]\n",
            " [ 0.16377761]\n",
            " [-1.05980292]\n",
            " [-1.31242359]\n",
            " [ 0.57480077]\n",
            " [ 0.83825738]\n",
            " [ 0.51696288]\n",
            " [ 0.08101431]\n",
            " [-0.33620784]\n",
            " [-0.73663548]\n",
            " [-0.36708443]\n",
            " [-2.58007517]\n",
            " [ 2.16748563]\n",
            " [-0.22230223]\n",
            " [ 0.29534019]\n",
            " [ 0.13543696]\n",
            " [-0.82012702]\n",
            " [-0.62845119]\n",
            " [ 0.24213323]\n",
            " [-0.8613653 ]\n",
            " [ 0.56119431]\n",
            " [-1.07312495]\n",
            " [-0.87300799]\n",
            " [ 2.30997927]\n",
            " [ 0.35605789]\n",
            " [ 0.35951976]\n",
            " [-1.41246139]\n",
            " [-1.49783277]\n",
            " [ 2.51060941]\n",
            " [ 0.10983833]\n",
            " [-0.20421435]\n",
            " [ 0.02417626]\n",
            " [-0.23056725]\n",
            " [-1.51242723]\n",
            " [-0.20231065]\n",
            " [ 0.14864266]\n",
            " [ 0.52604284]\n",
            " [ 0.02104179]\n",
            " [ 0.91484018]\n",
            " [-0.09850283]\n",
            " [ 0.22074711]\n",
            " [-1.07312495]\n",
            " [-1.00033717]\n",
            " [-0.4382331 ]\n",
            " [-1.06477886]\n",
            " [ 1.05081838]\n",
            " [-0.73976765]\n",
            " [-0.98052239]\n",
            " [ 0.19511147]\n",
            " [ 0.30437181]\n",
            " [ 0.52307739]\n",
            " [ 0.78709495]\n",
            " [ 0.29696438]\n",
            " [-0.20165687]\n",
            " [-0.07240585]\n",
            " [-0.10420402]\n",
            " [ 1.4418861 ]\n",
            " [-0.50242926]\n",
            " [ 0.32049304]\n",
            " [ 0.79126126]\n",
            " [ 0.94934176]\n",
            " [ 0.52387608]\n",
            " [ 0.13543696]\n",
            " [ 0.38741557]\n",
            " [-0.79764023]\n",
            " [ 0.61561474]\n",
            " [ 1.72231723]\n",
            " [ 0.50655057]\n",
            " [ 0.28606224]\n",
            " [ 0.61341444]\n",
            " [-1.1681983 ]\n",
            " [ 0.34220217]\n",
            " [-2.11739352]\n",
            " [-0.35284723]\n",
            " [-0.08770278]\n",
            " [-0.38745315]\n",
            " [-0.54649355]\n",
            " [ 0.42412779]\n",
            " [ 0.1318008 ]\n",
            " [-0.94630346]\n",
            " [-1.40859272]\n",
            " [ 2.55728606]\n",
            " [-1.23610008]\n",
            " [-0.50556205]\n",
            " [ 0.12893842]\n",
            " [-0.45723152]\n",
            " [ 0.03737482]\n",
            " [-0.61393415]\n",
            " [-1.46909101]\n",
            " [ 0.41735557]\n",
            " [-0.99719753]\n",
            " [-0.03773716]\n",
            " [ 0.10343197]\n",
            " [ 0.3973    ]\n",
            " [ 0.92806258]\n",
            " [-1.29567762]\n",
            " [ 0.85471786]\n",
            " [-0.012504  ]\n",
            " [-0.86643925]\n",
            " [ 0.80365186]\n",
            " [-0.55772899]\n",
            " [ 1.04350028]\n",
            " [-0.93320014]\n",
            " [-0.48228152]\n",
            " [ 0.76536631]\n",
            " [ 0.4382279 ]\n",
            " [ 0.77916212]\n",
            " [-0.56415506]\n",
            " [-1.18782945]\n",
            " [-1.2350059 ]\n",
            " [ 1.19518441]\n",
            " [ 0.77926693]\n",
            " [-1.39482674]\n",
            " [-0.02267166]\n",
            " [-0.7723026 ]\n",
            " [ 0.97361001]\n",
            " [-1.71729587]\n",
            " [ 0.09125671]\n",
            " [-1.45333065]\n",
            " [ 2.08539102]\n",
            " [ 0.80607851]\n",
            " [-0.01605145]\n",
            " [ 1.20068208]\n",
            " [-1.31281669]\n",
            " [-0.73370044]\n",
            " [-0.01362824]\n",
            " [ 0.38950478]\n",
            " [-1.39409696]\n",
            " [ 0.85537329]\n",
            " [ 0.77960628]\n",
            " [ 0.41491962]\n",
            " [ 0.41195261]\n",
            " [-1.54703077]\n",
            " [ 0.94760629]\n",
            " [-0.37468348]\n",
            " [-0.01825966]\n",
            " [ 1.22179786]\n",
            " [ 0.87805436]\n",
            " [ 0.35407045]\n",
            " [-1.04633575]\n",
            " [ 1.04341957]\n",
            " [-0.9247099 ]\n",
            " [-0.68319392]\n",
            " [-1.12700954]\n",
            " [ 1.28565664]\n",
            " [ 0.06057538]\n",
            " [ 0.13486172]\n",
            " [-0.44325313]\n",
            " [ 0.55649923]\n",
            " [ 0.24998535]\n",
            " [-0.8613653 ]\n",
            " [-1.28313589]\n",
            " [ 0.48883062]\n",
            " [-0.51432043]\n",
            " [-0.45234096]\n",
            " [ 0.86483636]\n",
            " [-1.07312495]\n",
            " [ 0.27409144]\n",
            " [ 2.58766698]\n",
            " [-0.22974839]\n",
            " [ 1.42085612]\n",
            " [-0.3216872 ]\n",
            " [ 0.01065494]\n",
            " [-0.61339492]\n",
            " [-0.94145804]\n",
            " [ 0.29902836]\n",
            " [-0.92185075]\n",
            " [-1.11191217]\n",
            " [-0.63505637]\n",
            " [-0.76036138]\n",
            " [ 0.27217668]\n",
            " [-0.36824341]\n",
            " [ 0.50655057]\n",
            " [ 0.62728878]\n",
            " [ 0.5420799 ]\n",
            " [ 0.85441977]\n",
            " [ 2.82515938]\n",
            " [ 0.74411168]\n",
            " [-0.03155822]\n",
            " [-0.54552719]\n",
            " [-0.89203823]\n",
            " [ 0.71863671]\n",
            " [-2.39654532]\n",
            " [-0.32844543]\n",
            " [-1.03591956]\n",
            " [ 0.50364241]\n",
            " [-1.45237049]\n",
            " [-0.40474525]\n",
            " [ 0.42669066]\n",
            " [ 0.18933697]\n",
            " [-0.02658409]\n",
            " [-0.94630346]\n",
            " [-0.37733832]\n",
            " [ 0.05651191]\n",
            " [ 1.41662734]\n",
            " [ 0.17429542]\n",
            " [-0.08138821]\n",
            " [ 0.07387101]\n",
            " [ 0.36633515]\n",
            " [ 0.03340502]\n",
            " [ 1.52204116]\n",
            " [-0.06774825]\n",
            " [ 1.77354918]\n",
            " [ 1.52629941]\n",
            " [ 1.61908728]\n",
            " [-1.27689701]\n",
            " [-0.90370668]\n",
            " [ 0.60141422]\n",
            " [ 0.08008689]\n",
            " [-0.36836873]\n",
            " [ 0.25218628]\n",
            " [ 0.99417248]\n",
            " [-1.58604887]\n",
            " [-0.81018963]\n",
            " [-2.33550885]\n",
            " [ 0.99216015]\n",
            " [-0.19942169]\n",
            " [-0.4342499 ]\n",
            " [-1.25994862]\n",
            " [-1.33595141]\n",
            " [-0.76469328]\n",
            " [ 1.51126564]\n",
            " [ 1.30297276]\n",
            " [ 0.2089001 ]\n",
            " [ 1.51502629]\n",
            " [-0.66242287]\n",
            " [ 0.79594074]\n",
            " [-0.36647693]\n",
            " [-0.54296243]\n",
            " [ 0.03237796]\n",
            " [ 0.57734875]\n",
            " [-0.66902754]\n",
            " [ 0.05144365]\n",
            " [-0.26171642]\n",
            " [-0.03281991]\n",
            " [-1.35431235]\n",
            " [-0.61693438]\n",
            " [ 0.12466035]\n",
            " [-2.49659882]\n",
            " [-0.3373901 ]\n",
            " [-0.73900253]\n",
            " [ 0.10889744]\n",
            " [ 0.61116345]\n",
            " [ 0.39642601]\n",
            " [-1.49967072]\n",
            " [ 1.84847668]\n",
            " [ 0.23652147]\n",
            " [ 1.01792693]\n",
            " [ 0.4049447 ]\n",
            " [-0.10805756]\n",
            " [ 2.70284362]\n",
            " [-0.16069277]\n",
            " [ 0.17466216]\n",
            " [-1.28592229]\n",
            " [-0.98088605]\n",
            " [-0.91994129]\n",
            " [ 0.22237635]\n",
            " [ 2.39017884]\n",
            " [-1.33590346]\n",
            " [ 0.31001144]\n",
            " [-0.6826146 ]\n",
            " [-1.17306663]\n",
            " [ 0.00877726]\n",
            " [-1.01587586]\n",
            " [-0.73646122]\n",
            " [ 2.26821062]\n",
            " [ 0.54131523]\n",
            " [ 0.47636963]\n",
            " [-1.9544672 ]\n",
            " [-0.10022007]\n",
            " [ 2.64536897]\n",
            " [-1.61940877]\n",
            " [ 1.90987278]\n",
            " [-0.51205848]\n",
            " [ 0.73514609]\n",
            " [ 1.96895561]\n",
            " [-2.16853734]\n",
            " [-1.07917578]\n",
            " [ 0.94606003]\n",
            " [-0.46678689]\n",
            " [ 1.57435817]\n",
            " [-0.94145804]\n",
            " [-1.05598792]\n",
            " [ 0.22278992]\n",
            " [-2.06280225]\n",
            " [ 1.03610195]\n",
            " [-1.58515713]\n",
            " [-0.15554201]\n",
            " [ 0.68217352]\n",
            " [ 1.73998083]\n",
            " [ 0.20721983]\n",
            " [-0.39374834]\n",
            " [ 0.7465485 ]\n",
            " [-1.83289217]\n",
            " [ 0.50261489]\n",
            " [-1.05980292]\n",
            " [ 0.19940199]\n",
            " [ 1.5330626 ]\n",
            " [ 0.0163751 ]\n",
            " [ 0.54807825]\n",
            " [ 0.72369266]\n",
            " [ 0.41698184]\n",
            " [-0.86845252]\n",
            " [ 1.17455845]\n",
            " [ 0.2022232 ]\n",
            " [ 1.83189868]\n",
            " [ 0.51267913]\n",
            " [-1.09565299]\n",
            " [-1.03848042]\n",
            " [-0.47451661]\n",
            " [ 0.37949365]\n",
            " [-0.4374256 ]\n",
            " [-0.34869708]\n",
            " [ 0.07931263]\n",
            " [ 0.38138691]\n",
            " [-0.20743532]\n",
            " [-0.06727769]\n",
            " [ 0.82659679]\n",
            " [ 0.93159428]\n",
            " [ 0.8430455 ]\n",
            " [ 2.39576035]\n",
            " [ 0.6139945 ]\n",
            " [-0.8854378 ]\n",
            " [-0.30139927]\n",
            " [-0.80824236]\n",
            " [ 1.04973899]\n",
            " [ 0.78996468]\n",
            " [ 0.96158609]\n",
            " [ 0.21584437]\n",
            " [ 0.63058201]\n",
            " [-0.46802256]\n",
            " [ 0.16415526]\n",
            " [-0.39745623]\n",
            " [ 1.53422863]\n",
            " [ 2.41567309]\n",
            " [ 2.05866784]\n",
            " [-1.3408719 ]\n",
            " [ 1.21197664]\n",
            " [-0.45080465]\n",
            " [ 1.37328172]\n",
            " [ 0.53616418]\n",
            " [-0.37961882]\n",
            " [-2.40524236]\n",
            " [-0.54296243]\n",
            " [ 1.6895358 ]\n",
            " [-1.48261023]\n",
            " [-0.20035656]\n",
            " [-0.88326981]\n",
            " [ 0.31597285]\n",
            " [ 0.54427026]\n",
            " [-0.71532922]\n",
            " [ 1.25331126]\n",
            " [-0.50654987]\n",
            " [ 0.05957662]\n",
            " [ 0.56657469]\n",
            " [-0.31720972]]\n",
            "[[ 0.         -0.5059619   0.34299717 ... -0.9855393   0.23381995\n",
            "  -0.20515231]\n",
            " [ 0.         -0.5059619   0.34299717 ...  0.74028989  0.33359591\n",
            "  -0.64267088]\n",
            " [ 0.         -0.5059619  -2.91547595 ... -0.55408201 -1.50127294\n",
            "   3.26258362]\n",
            " ...\n",
            " [ 0.         -0.5059619   0.34299717 ...  0.74028989 -0.31073638\n",
            "  -0.81146616]\n",
            " [ 0.         -0.5059619   0.34299717 ...  0.74028989  0.11665427\n",
            "  -1.38485012]\n",
            " [ 0.         -0.5059619   0.34299717 ... -0.55408201  0.40048708\n",
            "  -1.46369111]]\n"
          ]
        }
      ]
    },
    {
      "cell_type": "code",
      "source": [
        "from sklearn.metrics import mean_squared_error\n",
        "from sklearn.metrics import r2_score\n",
        "\n",
        "errors = mean_squared_error(Y_test, Y_pred)\n",
        "r2 = r2_score(Y_test, Y_pred)"
      ],
      "metadata": {
        "id": "Q5_RytWJ79vf"
      },
      "execution_count": null,
      "outputs": []
    },
    {
      "cell_type": "code",
      "source": [
        "Y_pred.reshape(1,-1)"
      ],
      "metadata": {
        "colab": {
          "base_uri": "https://localhost:8080/"
        },
        "id": "GUf037YFxzGB",
        "outputId": "73dc65a2-30e3-43bc-d359-e29b9be4c3a2"
      },
      "execution_count": null,
      "outputs": [
        {
          "output_type": "execute_result",
          "data": {
            "text/plain": [
              "array([[58.40724012, 56.56213153, 57.87615564, 58.08386355, 58.16665668,\n",
              "        57.05303111, 56.39195752, 58.65288924, 56.01771526, 59.36448619,\n",
              "        57.73544394, 60.08282307, 59.28676076, 57.81317862, 57.17462014,\n",
              "        58.07645617, 58.94277104, 52.89017454, 57.73806574, 56.36629234,\n",
              "        39.8191816 , 59.69307158, 58.34593311, 53.91284965, 57.8024473 ,\n",
              "        56.52127822, 32.82612907, 57.71358383, 58.96712692, 56.25019248,\n",
              "        58.15130082, 58.26759054, 57.91132586, 56.98296527, 56.54521238,\n",
              "        59.00343533, 57.7949746 , 54.49313704, 58.01826745, 58.47737489,\n",
              "        59.20761626, 56.29581308, 58.86730999, 58.53138586, 57.54052645,\n",
              "        53.10178758, 59.36031797, 53.2455438 , 60.43677791, 54.41959743,\n",
              "        58.50671038, 58.57439291, 55.8931706 , 59.22252815, 58.48750245,\n",
              "        59.64695915, 51.28128849, 57.97529052, 55.74962522, 54.09368152,\n",
              "        57.85179228, 57.67057751, 57.71820932, 58.65288924, 57.08863307,\n",
              "        54.60254432, 53.95441287, 58.50429106, 59.42425718, 58.70026165,\n",
              "        59.69307158, 60.0455037 , 59.75343109, 57.24183456, 57.575656  ,\n",
              "        58.3691573 , 53.45002993, 59.10564239, 58.37404777, 60.81238602,\n",
              "        55.01576122, 58.98003818, 56.05546709, 58.9425782 , 57.61329255,\n",
              "        58.09194733, 56.84820887, 58.78679172, 55.21779323, 57.81327491,\n",
              "        56.44178501, 59.29856312, 59.98973368, 57.24688303, 50.04819434,\n",
              "        58.4731925 ]])"
            ]
          },
          "metadata": {},
          "execution_count": 1145
        }
      ]
    },
    {
      "cell_type": "code",
      "source": [
        "Y_test"
      ],
      "metadata": {
        "colab": {
          "base_uri": "https://localhost:8080/"
        },
        "id": "kiFe4GMk9QE0",
        "outputId": "cc0ab4e9-d812-4952-bb93-49961b5700a0"
      },
      "execution_count": null,
      "outputs": [
        {
          "output_type": "execute_result",
          "data": {
            "text/plain": [
              "array([65.1555767350225, 51.51447741330079, 65.03540747642386,\n",
              "       63.91097860859991, 55.98168088855896, 61.74284224933968,\n",
              "       50.86456572312302, 60.75787887541172, 53.25812364663488,\n",
              "       67.02169366271686, 54.39189527094312, 78.67609789738475,\n",
              "       65.65155996272779, 59.2842946914658, 53.7039684150592,\n",
              "       54.428146616987206, 68.38542043303923, 43.69132515054417,\n",
              "       59.588203715832655, 59.26600200740317, 42.345060996069456,\n",
              "       86.17348267195601, 64.16714228726428, 47.327295834431936,\n",
              "       55.19905842034167, 52.98408339000731, 32.011364457581074,\n",
              "       53.89045253174539, 74.23943539497532, 56.8820152792729,\n",
              "       64.73526268799397, 57.38735355811523, 57.23931761247171,\n",
              "       55.815987078549654, 53.424806280166734, 60.90475685627747,\n",
              "       55.24593998469807, 48.18063691918467, 58.859188583904654,\n",
              "       60.883911359758216, 64.47069722241075, 49.24600219268955,\n",
              "       72.75830762018515, 67.28698008866088, 55.027495408321094,\n",
              "       47.71581713638178, 66.95683372273875, 54.234312491471,\n",
              "       84.453720800393, 50.073883093482486, 61.36680541868913,\n",
              "       68.04596947244347, 51.34544022169495, 64.80938815878193,\n",
              "       75.66762688324019, 71.52032300866541, 51.036829439893005,\n",
              "       52.80922664161135, 50.45059461746199, 54.15200130356269,\n",
              "       60.01828906869417, 57.16998160355373, 54.018801386048644,\n",
              "       60.75787887541172, 57.13606481741118, 45.231017285339014,\n",
              "       56.48927505081074, 61.36864992785712, 67.97960259249331,\n",
              "       69.99518318913026, 86.17348267195601, 77.97258503508318,\n",
              "       73.24043618946536, 61.466170960067515, 51.759692274312506,\n",
              "       59.097932012513986, 45.260177109517166, 71.04716609403606,\n",
              "       64.65843221811637, 90.57386962528842, 60.002439150506646,\n",
              "       60.659725432313515, 59.51300695141497, 60.12563025678285,\n",
              "       65.68179274291383, 59.88763017259093, 76.78558416998999,\n",
              "       57.456955028616555, 63.173867876033974, 55.47539426658806,\n",
              "       51.59436768900798, 79.72978561378613, 77.085373338222,\n",
              "       61.452717533385226, 30.013188040335738, 60.866965238083615],\n",
              "      dtype=object)"
            ]
          },
          "metadata": {},
          "execution_count": 1146
        }
      ]
    },
    {
      "cell_type": "code",
      "source": [
        "r2"
      ],
      "metadata": {
        "colab": {
          "base_uri": "https://localhost:8080/"
        },
        "id": "UT06r21r_HBt",
        "outputId": "b8993581-5f4b-4cb5-fa5b-66f8e43061b9"
      },
      "execution_count": null,
      "outputs": [
        {
          "output_type": "execute_result",
          "data": {
            "text/plain": [
              "0.24144276940610532"
            ]
          },
          "metadata": {},
          "execution_count": 1147
        }
      ]
    },
    {
      "cell_type": "code",
      "source": [
        "errors"
      ],
      "metadata": {
        "colab": {
          "base_uri": "https://localhost:8080/"
        },
        "id": "jApZGGs1CULD",
        "outputId": "f660a118-574c-40be-9239-025158a3ed26"
      },
      "execution_count": null,
      "outputs": [
        {
          "output_type": "execute_result",
          "data": {
            "text/plain": [
              "85.32021878275454"
            ]
          },
          "metadata": {},
          "execution_count": 1148
        }
      ]
    },
    {
      "cell_type": "markdown",
      "source": [
        "Classification Model(SVM)"
      ],
      "metadata": {
        "id": "9p4U2YweDdxk"
      }
    },
    {
      "cell_type": "code",
      "source": [
        "import numpy as np\n",
        "import pandas as pd\n",
        "import matplotlib.pyplot as plt\n",
        "import seaborn as sns\n",
        "%matplotlib inline"
      ],
      "metadata": {
        "id": "aYxKwMDWDg5f"
      },
      "execution_count": null,
      "outputs": []
    },
    {
      "cell_type": "code",
      "source": [
        "dataset = df \n",
        "df[\"Category\"] = df[\"Quality\"]\n",
        "print(np.mean(dataset[\"Score\"]))\n",
        "for i in dataset[dataset[\"Score\"]<60][\"Score\"].index:\n",
        "  dataset[\"Category\"][i] = \"No\"\n",
        "for i in dataset[dataset[\"Score\"]>=60][\"Score\"].index:\n",
        "  dataset[\"Category\"][i] = \"Yes\""
      ],
      "metadata": {
        "colab": {
          "base_uri": "https://localhost:8080/"
        },
        "id": "G49PM9lWDwXN",
        "outputId": "303eb315-650b-4fb2-8987-35c2317aa863"
      },
      "execution_count": null,
      "outputs": [
        {
          "output_type": "stream",
          "name": "stdout",
          "text": [
            "59.033433808616984\n"
          ]
        },
        {
          "output_type": "stream",
          "name": "stderr",
          "text": [
            "/usr/local/lib/python3.7/dist-packages/ipykernel_launcher.py:5: SettingWithCopyWarning: \n",
            "A value is trying to be set on a copy of a slice from a DataFrame\n",
            "\n",
            "See the caveats in the documentation: https://pandas.pydata.org/pandas-docs/stable/user_guide/indexing.html#returning-a-view-versus-a-copy\n",
            "  \"\"\"\n",
            "/usr/local/lib/python3.7/dist-packages/pandas/core/indexing.py:1732: SettingWithCopyWarning: \n",
            "A value is trying to be set on a copy of a slice from a DataFrame\n",
            "\n",
            "See the caveats in the documentation: https://pandas.pydata.org/pandas-docs/stable/user_guide/indexing.html#returning-a-view-versus-a-copy\n",
            "  self._setitem_single_block(indexer, value, name)\n",
            "/usr/local/lib/python3.7/dist-packages/ipykernel_launcher.py:7: SettingWithCopyWarning: \n",
            "A value is trying to be set on a copy of a slice from a DataFrame\n",
            "\n",
            "See the caveats in the documentation: https://pandas.pydata.org/pandas-docs/stable/user_guide/indexing.html#returning-a-view-versus-a-copy\n",
            "  import sys\n"
          ]
        }
      ]
    },
    {
      "cell_type": "code",
      "source": [
        "X_total = dataset.iloc[:, 1:10].values\n",
        "Y_total = dataset.iloc[:,11].values\n",
        "\n",
        "from sklearn.model_selection import train_test_split\n",
        "X, X_test, Y, Y_test = train_test_split(X_total, Y_total, test_size = 0.20, random_state = 0)\n"
      ],
      "metadata": {
        "id": "v74MOqRVEPmq"
      },
      "execution_count": null,
      "outputs": []
    },
    {
      "cell_type": "code",
      "source": [
        "\n",
        "# features scaling\n",
        "from sklearn.preprocessing import StandardScaler\n",
        "sc_X = StandardScaler()\n",
        "sc_Y = StandardScaler()\n",
        "Y = Y.reshape(-1,1)\n",
        "X = sc_X.fit_transform(X)\n",
        "# Y = sc_Y.fit_transform(Y)"
      ],
      "metadata": {
        "id": "DwgVeySvE4yF"
      },
      "execution_count": null,
      "outputs": []
    },
    {
      "cell_type": "code",
      "source": [
        "from sklearn import svm\n",
        "cl = svm.SVC(kernel='linear', C=0.01)\n",
        "cl.fit(X, Y)"
      ],
      "metadata": {
        "colab": {
          "base_uri": "https://localhost:8080/"
        },
        "id": "te-t8G45E8oN",
        "outputId": "117757fb-3c21-4af1-d0de-03770fe63fa8"
      },
      "execution_count": null,
      "outputs": [
        {
          "output_type": "stream",
          "name": "stderr",
          "text": [
            "/usr/local/lib/python3.7/dist-packages/sklearn/utils/validation.py:993: DataConversionWarning: A column-vector y was passed when a 1d array was expected. Please change the shape of y to (n_samples, ), for example using ravel().\n",
            "  y = column_or_1d(y, warn=True)\n"
          ]
        },
        {
          "output_type": "execute_result",
          "data": {
            "text/plain": [
              "SVC(C=0.01, kernel='linear')"
            ]
          },
          "metadata": {},
          "execution_count": 1153
        }
      ]
    },
    {
      "cell_type": "code",
      "source": [
        "y_pred = cl.predict(X_test)"
      ],
      "metadata": {
        "id": "xXmX60RcFT86"
      },
      "execution_count": null,
      "outputs": []
    },
    {
      "cell_type": "code",
      "source": [
        "acc = accuracy_score(Y_test, y_pred)\n",
        "acc"
      ],
      "metadata": {
        "colab": {
          "base_uri": "https://localhost:8080/"
        },
        "id": "aO35pHelGxVu",
        "outputId": "b14b4f91-ce5a-4a7b-c887-7ac86464174f"
      },
      "execution_count": null,
      "outputs": [
        {
          "output_type": "execute_result",
          "data": {
            "text/plain": [
              "0.5104166666666666"
            ]
          },
          "metadata": {},
          "execution_count": 1155
        }
      ]
    },
    {
      "cell_type": "code",
      "source": [
        "y_pred_1 = cl.predict(X)"
      ],
      "metadata": {
        "id": "Ku4wTN8LLE6V"
      },
      "execution_count": null,
      "outputs": []
    },
    {
      "cell_type": "code",
      "source": [
        "acc_train = accuracy_score(Y, y_pred_1)\n",
        "acc_train"
      ],
      "metadata": {
        "colab": {
          "base_uri": "https://localhost:8080/"
        },
        "id": "s3YgXHtaLLxa",
        "outputId": "db1e9137-9d43-4fac-8fc7-4cf2046780e1"
      },
      "execution_count": null,
      "outputs": [
        {
          "output_type": "execute_result",
          "data": {
            "text/plain": [
              "0.9157894736842105"
            ]
          },
          "metadata": {},
          "execution_count": 1157
        }
      ]
    },
    {
      "cell_type": "code",
      "source": [
        "from sklearn.metrics import accuracy_score, confusion_matrix\n",
        "cm = confusion_matrix(Y, y_pred_1)\n",
        "cm"
      ],
      "metadata": {
        "colab": {
          "base_uri": "https://localhost:8080/"
        },
        "id": "35MdLJaCIxJg",
        "outputId": "31a19e40-2c7d-45df-901d-9b7b18003187"
      },
      "execution_count": null,
      "outputs": [
        {
          "output_type": "execute_result",
          "data": {
            "text/plain": [
              "array([[189,  19],\n",
              "       [ 13, 159]])"
            ]
          },
          "metadata": {},
          "execution_count": 1158
        }
      ]
    },
    {
      "cell_type": "code",
      "source": [
        "y_pred_1"
      ],
      "metadata": {
        "colab": {
          "base_uri": "https://localhost:8080/"
        },
        "id": "m71TzaE3JEdm",
        "outputId": "d241f035-c2ba-4093-c425-8831c66ff867"
      },
      "execution_count": null,
      "outputs": [
        {
          "output_type": "execute_result",
          "data": {
            "text/plain": [
              "array(['No', 'Yes', 'No', 'No', 'No', 'No', 'No', 'No', 'No', 'No', 'Yes',\n",
              "       'Yes', 'No', 'No', 'Yes', 'Yes', 'No', 'No', 'No', 'No', 'Yes',\n",
              "       'Yes', 'No', 'No', 'No', 'No', 'No', 'No', 'Yes', 'Yes', 'Yes',\n",
              "       'Yes', 'No', 'No', 'No', 'No', 'Yes', 'No', 'Yes', 'Yes', 'No',\n",
              "       'No', 'Yes', 'No', 'Yes', 'No', 'No', 'Yes', 'Yes', 'Yes', 'No',\n",
              "       'No', 'Yes', 'Yes', 'Yes', 'No', 'No', 'No', 'No', 'No', 'Yes',\n",
              "       'No', 'Yes', 'No', 'No', 'No', 'No', 'No', 'No', 'Yes', 'No', 'No',\n",
              "       'No', 'Yes', 'Yes', 'Yes', 'Yes', 'No', 'No', 'Yes', 'Yes', 'No',\n",
              "       'No', 'Yes', 'Yes', 'Yes', 'Yes', 'Yes', 'No', 'Yes', 'Yes', 'Yes',\n",
              "       'Yes', 'Yes', 'No', 'Yes', 'No', 'No', 'No', 'No', 'No', 'Yes',\n",
              "       'Yes', 'No', 'No', 'Yes', 'No', 'No', 'No', 'No', 'Yes', 'No',\n",
              "       'No', 'Yes', 'No', 'No', 'No', 'Yes', 'Yes', 'No', 'Yes', 'No',\n",
              "       'No', 'Yes', 'No', 'Yes', 'No', 'No', 'Yes', 'Yes', 'Yes', 'No',\n",
              "       'No', 'No', 'Yes', 'Yes', 'No', 'No', 'No', 'Yes', 'No', 'No',\n",
              "       'No', 'Yes', 'Yes', 'No', 'Yes', 'No', 'No', 'No', 'Yes', 'No',\n",
              "       'Yes', 'Yes', 'Yes', 'Yes', 'No', 'Yes', 'No', 'Yes', 'Yes', 'Yes',\n",
              "       'Yes', 'No', 'Yes', 'No', 'No', 'No', 'Yes', 'Yes', 'Yes', 'No',\n",
              "       'Yes', 'Yes', 'No', 'No', 'Yes', 'No', 'No', 'Yes', 'No', 'Yes',\n",
              "       'Yes', 'No', 'Yes', 'No', 'No', 'No', 'No', 'Yes', 'No', 'No',\n",
              "       'No', 'No', 'Yes', 'No', 'Yes', 'Yes', 'Yes', 'Yes', 'Yes', 'Yes',\n",
              "       'No', 'No', 'No', 'Yes', 'No', 'No', 'No', 'Yes', 'No', 'No',\n",
              "       'Yes', 'Yes', 'No', 'No', 'No', 'No', 'Yes', 'No', 'No', 'Yes',\n",
              "       'Yes', 'No', 'Yes', 'Yes', 'Yes', 'Yes', 'Yes', 'No', 'No', 'Yes',\n",
              "       'No', 'No', 'Yes', 'Yes', 'No', 'No', 'No', 'Yes', 'No', 'No',\n",
              "       'No', 'No', 'No', 'Yes', 'Yes', 'Yes', 'Yes', 'No', 'Yes', 'No',\n",
              "       'No', 'No', 'Yes', 'No', 'Yes', 'Yes', 'No', 'No', 'No', 'No',\n",
              "       'No', 'No', 'No', 'Yes', 'Yes', 'Yes', 'No', 'Yes', 'No', 'Yes',\n",
              "       'No', 'No', 'Yes', 'No', 'No', 'No', 'No', 'No', 'Yes', 'Yes',\n",
              "       'No', 'No', 'No', 'No', 'Yes', 'No', 'No', 'Yes', 'Yes', 'Yes',\n",
              "       'No', 'Yes', 'Yes', 'No', 'Yes', 'No', 'Yes', 'Yes', 'No', 'No',\n",
              "       'Yes', 'No', 'Yes', 'No', 'No', 'Yes', 'No', 'Yes', 'No', 'Yes',\n",
              "       'Yes', 'Yes', 'Yes', 'No', 'Yes', 'No', 'Yes', 'No', 'Yes', 'Yes',\n",
              "       'Yes', 'Yes', 'Yes', 'Yes', 'No', 'Yes', 'Yes', 'Yes', 'Yes', 'No',\n",
              "       'No', 'No', 'Yes', 'No', 'No', 'Yes', 'Yes', 'Yes', 'No', 'Yes',\n",
              "       'Yes', 'Yes', 'Yes', 'Yes', 'No', 'No', 'No', 'Yes', 'Yes', 'Yes',\n",
              "       'Yes', 'Yes', 'No', 'Yes', 'No', 'Yes', 'Yes', 'Yes', 'No', 'Yes',\n",
              "       'No', 'Yes', 'Yes', 'No', 'No', 'No', 'Yes', 'No', 'No', 'No',\n",
              "       'Yes', 'Yes', 'No', 'Yes', 'No', 'No', 'Yes', 'Yes'], dtype=object)"
            ]
          },
          "metadata": {},
          "execution_count": 1159
        }
      ]
    }
  ]
}